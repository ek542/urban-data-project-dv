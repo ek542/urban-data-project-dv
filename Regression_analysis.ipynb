{
 "cells": [
  {
   "cell_type": "code",
   "execution_count": 1,
   "metadata": {},
   "outputs": [],
   "source": [
    "# Load libraries\n",
    "\n",
    "import pandas as pd\n",
    "import statsmodels.api as sm\n",
    "import numpy as np\n",
    "\n",
    "import pandas as pd\n",
    "import numpy as np\n",
    "import statsmodels.api as sm\n",
    "from statsmodels.sandbox.regression.gmm import IV2SLS\n",
    "from __future__ import division\n",
    "import seaborn as sns"
   ]
  },
  {
   "cell_type": "code",
   "execution_count": 2,
   "metadata": {},
   "outputs": [],
   "source": [
    "df = pd.read_csv('Data/demographic_dv_data.csv')"
   ]
  },
  {
   "cell_type": "code",
   "execution_count": 3,
   "metadata": {},
   "outputs": [],
   "source": [
    "reg_df = df.dropna()"
   ]
  },
  {
   "cell_type": "code",
   "execution_count": 4,
   "metadata": {},
   "outputs": [
    {
     "data": {
      "text/html": [
       "<div>\n",
       "<style scoped>\n",
       "    .dataframe tbody tr th:only-of-type {\n",
       "        vertical-align: middle;\n",
       "    }\n",
       "\n",
       "    .dataframe tbody tr th {\n",
       "        vertical-align: top;\n",
       "    }\n",
       "\n",
       "    .dataframe thead th {\n",
       "        text-align: right;\n",
       "    }\n",
       "</style>\n",
       "<table border=\"1\" class=\"dataframe\">\n",
       "  <thead>\n",
       "    <tr style=\"text-align: right;\">\n",
       "      <th></th>\n",
       "      <th>precinct</th>\n",
       "      <th>total_complaints_17</th>\n",
       "      <th>total_complaints_17_per_capita</th>\n",
       "      <th>total_complaints_18</th>\n",
       "      <th>total_complaints_18_per_capita</th>\n",
       "      <th>total_complaints_19</th>\n",
       "      <th>total_complaints_19_per_capita</th>\n",
       "      <th>avg_population</th>\n",
       "      <th>avg_complaints_17_19</th>\n",
       "      <th>avg_median_income</th>\n",
       "      <th>avg_unemployment_rate</th>\n",
       "      <th>avg_white_frac</th>\n",
       "      <th>avg_black_frac</th>\n",
       "      <th>avg_native_frac</th>\n",
       "      <th>avg_asian_frac</th>\n",
       "      <th>avg_single_frac</th>\n",
       "      <th>avg_liveswspouse_frac</th>\n",
       "      <th>avg_liveswunmarried_frac</th>\n",
       "      <th>avg_bachelors_frac</th>\n",
       "      <th>avg_blacks_1990</th>\n",
       "    </tr>\n",
       "  </thead>\n",
       "  <tbody>\n",
       "    <tr>\n",
       "      <th>0</th>\n",
       "      <td>1.0</td>\n",
       "      <td>504</td>\n",
       "      <td>0.755860</td>\n",
       "      <td>542</td>\n",
       "      <td>0.812850</td>\n",
       "      <td>510</td>\n",
       "      <td>0.764859</td>\n",
       "      <td>66679</td>\n",
       "      <td>0.777856</td>\n",
       "      <td>173781.727273</td>\n",
       "      <td>0.031593</td>\n",
       "      <td>0.703872</td>\n",
       "      <td>0.037305</td>\n",
       "      <td>0.001290</td>\n",
       "      <td>0.207777</td>\n",
       "      <td>0.228813</td>\n",
       "      <td>0.414600</td>\n",
       "      <td>0.062289</td>\n",
       "      <td>0.395121</td>\n",
       "      <td>615.200000</td>\n",
       "    </tr>\n",
       "    <tr>\n",
       "      <th>2</th>\n",
       "      <td>6.0</td>\n",
       "      <td>306</td>\n",
       "      <td>0.491756</td>\n",
       "      <td>279</td>\n",
       "      <td>0.448366</td>\n",
       "      <td>332</td>\n",
       "      <td>0.533539</td>\n",
       "      <td>62226</td>\n",
       "      <td>0.491220</td>\n",
       "      <td>133501.000000</td>\n",
       "      <td>0.050877</td>\n",
       "      <td>0.889237</td>\n",
       "      <td>0.013940</td>\n",
       "      <td>0.000000</td>\n",
       "      <td>0.048247</td>\n",
       "      <td>0.381976</td>\n",
       "      <td>0.285970</td>\n",
       "      <td>0.124497</td>\n",
       "      <td>0.448389</td>\n",
       "      <td>1176.000000</td>\n",
       "    </tr>\n",
       "    <tr>\n",
       "      <th>3</th>\n",
       "      <td>7.0</td>\n",
       "      <td>1312</td>\n",
       "      <td>2.328099</td>\n",
       "      <td>1285</td>\n",
       "      <td>2.280188</td>\n",
       "      <td>1378</td>\n",
       "      <td>2.445213</td>\n",
       "      <td>56355</td>\n",
       "      <td>2.351167</td>\n",
       "      <td>36982.000000</td>\n",
       "      <td>0.062193</td>\n",
       "      <td>0.320211</td>\n",
       "      <td>0.089086</td>\n",
       "      <td>0.009721</td>\n",
       "      <td>0.418883</td>\n",
       "      <td>0.223851</td>\n",
       "      <td>0.309844</td>\n",
       "      <td>0.029628</td>\n",
       "      <td>0.222559</td>\n",
       "      <td>9321.000000</td>\n",
       "    </tr>\n",
       "    <tr>\n",
       "      <th>4</th>\n",
       "      <td>9.0</td>\n",
       "      <td>1338</td>\n",
       "      <td>1.750324</td>\n",
       "      <td>1226</td>\n",
       "      <td>1.603809</td>\n",
       "      <td>1326</td>\n",
       "      <td>1.734626</td>\n",
       "      <td>76443</td>\n",
       "      <td>1.696253</td>\n",
       "      <td>90939.000000</td>\n",
       "      <td>0.044064</td>\n",
       "      <td>0.684918</td>\n",
       "      <td>0.070973</td>\n",
       "      <td>0.001351</td>\n",
       "      <td>0.143445</td>\n",
       "      <td>0.322573</td>\n",
       "      <td>0.276632</td>\n",
       "      <td>0.078682</td>\n",
       "      <td>0.404349</td>\n",
       "      <td>4804.500000</td>\n",
       "    </tr>\n",
       "    <tr>\n",
       "      <th>5</th>\n",
       "      <td>10.0</td>\n",
       "      <td>838</td>\n",
       "      <td>1.669988</td>\n",
       "      <td>822</td>\n",
       "      <td>1.638103</td>\n",
       "      <td>831</td>\n",
       "      <td>1.656038</td>\n",
       "      <td>50180</td>\n",
       "      <td>1.654710</td>\n",
       "      <td>138272.000000</td>\n",
       "      <td>0.036067</td>\n",
       "      <td>0.805502</td>\n",
       "      <td>0.044365</td>\n",
       "      <td>0.001461</td>\n",
       "      <td>0.087830</td>\n",
       "      <td>0.395188</td>\n",
       "      <td>0.303889</td>\n",
       "      <td>0.112008</td>\n",
       "      <td>0.412710</td>\n",
       "      <td>3171.000000</td>\n",
       "    </tr>\n",
       "    <tr>\n",
       "      <th>...</th>\n",
       "      <td>...</td>\n",
       "      <td>...</td>\n",
       "      <td>...</td>\n",
       "      <td>...</td>\n",
       "      <td>...</td>\n",
       "      <td>...</td>\n",
       "      <td>...</td>\n",
       "      <td>...</td>\n",
       "      <td>...</td>\n",
       "      <td>...</td>\n",
       "      <td>...</td>\n",
       "      <td>...</td>\n",
       "      <td>...</td>\n",
       "      <td>...</td>\n",
       "      <td>...</td>\n",
       "      <td>...</td>\n",
       "      <td>...</td>\n",
       "      <td>...</td>\n",
       "      <td>...</td>\n",
       "      <td>...</td>\n",
       "    </tr>\n",
       "    <tr>\n",
       "      <th>72</th>\n",
       "      <td>115.0</td>\n",
       "      <td>2749</td>\n",
       "      <td>1.602205</td>\n",
       "      <td>2730</td>\n",
       "      <td>1.591132</td>\n",
       "      <td>2593</td>\n",
       "      <td>1.511284</td>\n",
       "      <td>171576</td>\n",
       "      <td>1.568207</td>\n",
       "      <td>59516.333333</td>\n",
       "      <td>0.051435</td>\n",
       "      <td>0.408196</td>\n",
       "      <td>0.114146</td>\n",
       "      <td>0.006384</td>\n",
       "      <td>0.189568</td>\n",
       "      <td>0.115032</td>\n",
       "      <td>0.378341</td>\n",
       "      <td>0.043476</td>\n",
       "      <td>0.143989</td>\n",
       "      <td>4061.500000</td>\n",
       "    </tr>\n",
       "    <tr>\n",
       "      <th>73</th>\n",
       "      <td>120.0</td>\n",
       "      <td>4640</td>\n",
       "      <td>4.105904</td>\n",
       "      <td>4642</td>\n",
       "      <td>4.107674</td>\n",
       "      <td>4265</td>\n",
       "      <td>3.774069</td>\n",
       "      <td>113008</td>\n",
       "      <td>3.995882</td>\n",
       "      <td>69063.500000</td>\n",
       "      <td>0.042361</td>\n",
       "      <td>0.600461</td>\n",
       "      <td>0.224943</td>\n",
       "      <td>0.002034</td>\n",
       "      <td>0.060278</td>\n",
       "      <td>0.145980</td>\n",
       "      <td>0.438328</td>\n",
       "      <td>0.045523</td>\n",
       "      <td>0.199319</td>\n",
       "      <td>5643.000000</td>\n",
       "    </tr>\n",
       "    <tr>\n",
       "      <th>74</th>\n",
       "      <td>121.0</td>\n",
       "      <td>3030</td>\n",
       "      <td>2.552482</td>\n",
       "      <td>2782</td>\n",
       "      <td>2.343566</td>\n",
       "      <td>2612</td>\n",
       "      <td>2.200357</td>\n",
       "      <td>118708</td>\n",
       "      <td>2.365468</td>\n",
       "      <td>74938.666667</td>\n",
       "      <td>0.044689</td>\n",
       "      <td>0.595667</td>\n",
       "      <td>0.199929</td>\n",
       "      <td>0.005083</td>\n",
       "      <td>0.113643</td>\n",
       "      <td>0.092653</td>\n",
       "      <td>0.460973</td>\n",
       "      <td>0.038530</td>\n",
       "      <td>0.187815</td>\n",
       "      <td>2796.666667</td>\n",
       "    </tr>\n",
       "    <tr>\n",
       "      <th>75</th>\n",
       "      <td>122.0</td>\n",
       "      <td>2119</td>\n",
       "      <td>1.524658</td>\n",
       "      <td>2057</td>\n",
       "      <td>1.480048</td>\n",
       "      <td>2029</td>\n",
       "      <td>1.459901</td>\n",
       "      <td>138982</td>\n",
       "      <td>1.488202</td>\n",
       "      <td>79450.500000</td>\n",
       "      <td>0.054905</td>\n",
       "      <td>0.746309</td>\n",
       "      <td>0.102512</td>\n",
       "      <td>0.001811</td>\n",
       "      <td>0.095711</td>\n",
       "      <td>0.106724</td>\n",
       "      <td>0.493980</td>\n",
       "      <td>0.033405</td>\n",
       "      <td>0.196255</td>\n",
       "      <td>2479.500000</td>\n",
       "    </tr>\n",
       "    <tr>\n",
       "      <th>76</th>\n",
       "      <td>123.0</td>\n",
       "      <td>910</td>\n",
       "      <td>0.928268</td>\n",
       "      <td>976</td>\n",
       "      <td>0.995593</td>\n",
       "      <td>1000</td>\n",
       "      <td>1.020075</td>\n",
       "      <td>98032</td>\n",
       "      <td>0.981312</td>\n",
       "      <td>97322.333333</td>\n",
       "      <td>0.034855</td>\n",
       "      <td>0.920140</td>\n",
       "      <td>0.006789</td>\n",
       "      <td>0.002022</td>\n",
       "      <td>0.044136</td>\n",
       "      <td>0.087292</td>\n",
       "      <td>0.561746</td>\n",
       "      <td>0.027826</td>\n",
       "      <td>0.226313</td>\n",
       "      <td>386.333333</td>\n",
       "    </tr>\n",
       "  </tbody>\n",
       "</table>\n",
       "<p>74 rows × 20 columns</p>\n",
       "</div>"
      ],
      "text/plain": [
       "    precinct  total_complaints_17  total_complaints_17_per_capita  \\\n",
       "0        1.0                  504                        0.755860   \n",
       "2        6.0                  306                        0.491756   \n",
       "3        7.0                 1312                        2.328099   \n",
       "4        9.0                 1338                        1.750324   \n",
       "5       10.0                  838                        1.669988   \n",
       "..       ...                  ...                             ...   \n",
       "72     115.0                 2749                        1.602205   \n",
       "73     120.0                 4640                        4.105904   \n",
       "74     121.0                 3030                        2.552482   \n",
       "75     122.0                 2119                        1.524658   \n",
       "76     123.0                  910                        0.928268   \n",
       "\n",
       "    total_complaints_18  total_complaints_18_per_capita  total_complaints_19  \\\n",
       "0                   542                        0.812850                  510   \n",
       "2                   279                        0.448366                  332   \n",
       "3                  1285                        2.280188                 1378   \n",
       "4                  1226                        1.603809                 1326   \n",
       "5                   822                        1.638103                  831   \n",
       "..                  ...                             ...                  ...   \n",
       "72                 2730                        1.591132                 2593   \n",
       "73                 4642                        4.107674                 4265   \n",
       "74                 2782                        2.343566                 2612   \n",
       "75                 2057                        1.480048                 2029   \n",
       "76                  976                        0.995593                 1000   \n",
       "\n",
       "    total_complaints_19_per_capita  avg_population  avg_complaints_17_19  \\\n",
       "0                         0.764859           66679              0.777856   \n",
       "2                         0.533539           62226              0.491220   \n",
       "3                         2.445213           56355              2.351167   \n",
       "4                         1.734626           76443              1.696253   \n",
       "5                         1.656038           50180              1.654710   \n",
       "..                             ...             ...                   ...   \n",
       "72                        1.511284          171576              1.568207   \n",
       "73                        3.774069          113008              3.995882   \n",
       "74                        2.200357          118708              2.365468   \n",
       "75                        1.459901          138982              1.488202   \n",
       "76                        1.020075           98032              0.981312   \n",
       "\n",
       "    avg_median_income  avg_unemployment_rate  avg_white_frac  avg_black_frac  \\\n",
       "0       173781.727273               0.031593        0.703872        0.037305   \n",
       "2       133501.000000               0.050877        0.889237        0.013940   \n",
       "3        36982.000000               0.062193        0.320211        0.089086   \n",
       "4        90939.000000               0.044064        0.684918        0.070973   \n",
       "5       138272.000000               0.036067        0.805502        0.044365   \n",
       "..                ...                    ...             ...             ...   \n",
       "72       59516.333333               0.051435        0.408196        0.114146   \n",
       "73       69063.500000               0.042361        0.600461        0.224943   \n",
       "74       74938.666667               0.044689        0.595667        0.199929   \n",
       "75       79450.500000               0.054905        0.746309        0.102512   \n",
       "76       97322.333333               0.034855        0.920140        0.006789   \n",
       "\n",
       "    avg_native_frac  avg_asian_frac  avg_single_frac  avg_liveswspouse_frac  \\\n",
       "0          0.001290        0.207777         0.228813               0.414600   \n",
       "2          0.000000        0.048247         0.381976               0.285970   \n",
       "3          0.009721        0.418883         0.223851               0.309844   \n",
       "4          0.001351        0.143445         0.322573               0.276632   \n",
       "5          0.001461        0.087830         0.395188               0.303889   \n",
       "..              ...             ...              ...                    ...   \n",
       "72         0.006384        0.189568         0.115032               0.378341   \n",
       "73         0.002034        0.060278         0.145980               0.438328   \n",
       "74         0.005083        0.113643         0.092653               0.460973   \n",
       "75         0.001811        0.095711         0.106724               0.493980   \n",
       "76         0.002022        0.044136         0.087292               0.561746   \n",
       "\n",
       "    avg_liveswunmarried_frac  avg_bachelors_frac  avg_blacks_1990  \n",
       "0                   0.062289            0.395121       615.200000  \n",
       "2                   0.124497            0.448389      1176.000000  \n",
       "3                   0.029628            0.222559      9321.000000  \n",
       "4                   0.078682            0.404349      4804.500000  \n",
       "5                   0.112008            0.412710      3171.000000  \n",
       "..                       ...                 ...              ...  \n",
       "72                  0.043476            0.143989      4061.500000  \n",
       "73                  0.045523            0.199319      5643.000000  \n",
       "74                  0.038530            0.187815      2796.666667  \n",
       "75                  0.033405            0.196255      2479.500000  \n",
       "76                  0.027826            0.226313       386.333333  \n",
       "\n",
       "[74 rows x 20 columns]"
      ]
     },
     "execution_count": 4,
     "metadata": {},
     "output_type": "execute_result"
    }
   ],
   "source": [
    "reg_df"
   ]
  },
  {
   "cell_type": "code",
   "execution_count": 5,
   "metadata": {},
   "outputs": [],
   "source": [
    "from scipy import stats\n",
    "import matplotlib.pyplot as plt"
   ]
  },
  {
   "cell_type": "code",
   "execution_count": 6,
   "metadata": {},
   "outputs": [
    {
     "name": "stdout",
     "output_type": "stream",
     "text": [
      "r value =  0.7371110245271122\n",
      "p value =  6.998862195431052e-14\n"
     ]
    },
    {
     "data": {
      "text/plain": [
       "[<matplotlib.lines.Line2D at 0x7faa20c8f250>]"
      ]
     },
     "execution_count": 6,
     "metadata": {},
     "output_type": "execute_result"
    },
    {
     "data": {
      "image/png": "[encoded data removed]",
      "text/plain": [
       "<Figure size 432x288 with 1 Axes>"
      ]
     },
     "metadata": {
      "needs_background": "light"
     },
     "output_type": "display_data"
    }
   ],
   "source": [
    "# how heavily correlated is income and race?\n",
    "\n",
    "res = stats.linregress(reg_df['avg_median_income'], reg_df['avg_white_frac'])\n",
    "print('r value = ', res.rvalue)\n",
    "print('p value = ', res.pvalue)\n",
    "plt.scatter(reg_df['avg_median_income'], reg_df['avg_white_frac'])\n",
    "plt.plot(reg_df['avg_median_income'], res.intercept + res.slope*reg_df['avg_median_income'], 'r', label='fitted line')"
   ]
  },
  {
   "cell_type": "code",
   "execution_count": 7,
   "metadata": {},
   "outputs": [
    {
     "name": "stdout",
     "output_type": "stream",
     "text": [
      "r value =  -0.776950403005871\n",
      "p value =  4.0584642410934427e-16\n"
     ]
    },
    {
     "data": {
      "text/plain": [
       "[<matplotlib.lines.Line2D at 0x7faa33d91880>]"
      ]
     },
     "execution_count": 7,
     "metadata": {},
     "output_type": "execute_result"
    },
    {
     "data": {
      "image/png": "[encoded data removed]",
      "text/plain": [
       "<Figure size 432x288 with 1 Axes>"
      ]
     },
     "metadata": {
      "needs_background": "light"
     },
     "output_type": "display_data"
    }
   ],
   "source": [
    "res = stats.linregress(reg_df['avg_white_frac'], reg_df['avg_black_frac'])\n",
    "print('r value = ', res.rvalue)\n",
    "print('p value = ', res.pvalue)\n",
    "plt.scatter(reg_df['avg_white_frac'], reg_df['avg_black_frac'])\n",
    "plt.plot(reg_df['avg_white_frac'], res.intercept + res.slope*reg_df['avg_white_frac'], 'r', label='fitted line')"
   ]
  },
  {
   "cell_type": "code",
   "execution_count": 8,
   "metadata": {},
   "outputs": [
    {
     "name": "stdout",
     "output_type": "stream",
     "text": [
      "r value =  -0.776950403005871\n",
      "p value =  4.0584642410934427e-16\n"
     ]
    },
    {
     "data": {
      "text/plain": [
       "[<matplotlib.lines.Line2D at 0x7faa33e6f700>]"
      ]
     },
     "execution_count": 8,
     "metadata": {},
     "output_type": "execute_result"
    },
    {
     "data": {
      "image/png": "[encoded data removed]",
      "text/plain": [
       "<Figure size 432x288 with 1 Axes>"
      ]
     },
     "metadata": {
      "needs_background": "light"
     },
     "output_type": "display_data"
    }
   ],
   "source": [
    "res = stats.linregress(reg_df['avg_white_frac'], reg_df['avg_black_frac'])\n",
    "print('r value = ', res.rvalue)\n",
    "print('p value = ', res.pvalue)\n",
    "plt.scatter(reg_df['avg_white_frac'], reg_df['avg_black_frac'])\n",
    "plt.plot(reg_df['avg_white_frac'], res.intercept + res.slope*reg_df['avg_white_frac'], 'r', label='fitted line')"
   ]
  },
  {
   "cell_type": "code",
   "execution_count": 9,
   "metadata": {},
   "outputs": [
    {
     "data": {
      "image/png": "[encoded data removed]",
      "text/plain": [
       "<Figure size 864x576 with 4 Axes>"
      ]
     },
     "metadata": {
      "needs_background": "light"
     },
     "output_type": "display_data"
    }
   ],
   "source": [
    "# plotting residuals for homoskedasticity\n",
    "\n",
    "lin_reg = sm.OLS.from_formula('avg_complaints_17_19 ~ avg_black_frac + avg_median_income + avg_single_frac + avg_bachelors_frac', data=reg_df).fit()\n",
    "#define figure size\n",
    "fig = plt.figure(figsize=(12,8))\n",
    "\n",
    "#produce regression plots\n",
    "fig = sm.graphics.plot_regress_exog(lin_reg, 'avg_median_income', fig=fig)\n",
    "                                              \n",
    "                                              "
   ]
  },
  {
   "cell_type": "code",
   "execution_count": 10,
   "metadata": {},
   "outputs": [],
   "source": [
    "# Preprocessing data to prevent heterosk\n",
    "\n",
    "from sklearn.preprocessing import StandardScaler"
   ]
  },
  {
   "cell_type": "code",
   "execution_count": 11,
   "metadata": {},
   "outputs": [],
   "source": [
    "ss = StandardScaler()\n",
    "reg_df_scaled = pd.DataFrame(ss.fit_transform(reg_df),columns = reg_df.columns)"
   ]
  },
  {
   "cell_type": "markdown",
   "metadata": {},
   "source": [
    "## our main regression"
   ]
  },
  {
   "cell_type": "code",
   "execution_count": 14,
   "metadata": {},
   "outputs": [
    {
     "name": "stdout",
     "output_type": "stream",
     "text": [
      "                             OLS Regression Results                             \n",
      "================================================================================\n",
      "Dep. Variable:     avg_complaints_17_19   R-squared:                       0.720\n",
      "Model:                              OLS   Adj. R-squared:                  0.708\n",
      "Method:                   Least Squares   F-statistic:                     48.79\n",
      "Date:                  Tue, 07 Dec 2021   Prob (F-statistic):           3.93e-17\n",
      "Time:                          18:31:21   Log-Likelihood:                -57.909\n",
      "No. Observations:                    74   AIC:                             123.8\n",
      "Df Residuals:                        70   BIC:                             133.0\n",
      "Df Model:                             3                                         \n",
      "Covariance Type:                    HC1                                         \n",
      "======================================================================================\n",
      "                         coef    std err          z      P>|z|      [0.025      0.975]\n",
      "--------------------------------------------------------------------------------------\n",
      "Intercept          -3.192e-16      0.063  -5.05e-15      1.000      -0.124       0.124\n",
      "avg_bachelors_frac    -0.8747      0.127     -6.905      0.000      -1.123      -0.626\n",
      "avg_single_frac        0.5484      0.084      6.554      0.000       0.384       0.712\n",
      "avg_black_frac         0.3048      0.092      3.330      0.001       0.125       0.484\n",
      "==============================================================================\n",
      "Omnibus:                        2.422   Durbin-Watson:                   1.251\n",
      "Prob(Omnibus):                  0.298   Jarque-Bera (JB):                1.900\n",
      "Skew:                           0.387   Prob(JB):                        0.387\n",
      "Kurtosis:                       3.133   Cond. No.                         2.90\n",
      "==============================================================================\n",
      "\n",
      "Warnings:\n",
      "[1] Standard Errors are heteroscedasticity robust (HC1)\n"
     ]
    }
   ],
   "source": [
    "lin_reg = sm.OLS.from_formula('avg_complaints_17_19 ~ avg_bachelors_frac + avg_single_frac + avg_black_frac', data=reg_df_scaled).fit(cov_type='HC1')\n",
    "print(lin_reg.summary())"
   ]
  },
  {
   "cell_type": "markdown",
   "metadata": {},
   "source": [
    "## Using white fraction instead of black fraction"
   ]
  },
  {
   "cell_type": "code",
   "execution_count": 31,
   "metadata": {},
   "outputs": [
    {
     "name": "stdout",
     "output_type": "stream",
     "text": [
      "                             OLS Regression Results                             \n",
      "================================================================================\n",
      "Dep. Variable:     avg_complaints_17_19   R-squared:                       0.691\n",
      "Model:                              OLS   Adj. R-squared:                  0.678\n",
      "Method:                   Least Squares   F-statistic:                     44.55\n",
      "Date:                  Tue, 07 Dec 2021   Prob (F-statistic):           3.22e-16\n",
      "Time:                          19:05:42   Log-Likelihood:                -61.492\n",
      "No. Observations:                    74   AIC:                             131.0\n",
      "Df Residuals:                        70   BIC:                             140.2\n",
      "Df Model:                             3                                         \n",
      "Covariance Type:                    HC1                                         \n",
      "======================================================================================\n",
      "                         coef    std err          z      P>|z|      [0.025      0.975]\n",
      "--------------------------------------------------------------------------------------\n",
      "Intercept          -3.192e-16      0.066  -4.81e-15      1.000      -0.130       0.130\n",
      "avg_bachelors_frac    -0.8188      0.133     -6.146      0.000      -1.080      -0.558\n",
      "avg_single_frac        0.5723      0.086      6.687      0.000       0.405       0.740\n",
      "avg_white_frac        -0.2988      0.088     -3.387      0.001      -0.472      -0.126\n",
      "==============================================================================\n",
      "Omnibus:                        1.004   Durbin-Watson:                   1.330\n",
      "Prob(Omnibus):                  0.605   Jarque-Bera (JB):                1.071\n",
      "Skew:                           0.256   Prob(JB):                        0.585\n",
      "Kurtosis:                       2.709   Cond. No.                         3.78\n",
      "==============================================================================\n",
      "\n",
      "Warnings:\n",
      "[1] Standard Errors are heteroscedasticity robust (HC1)\n"
     ]
    }
   ],
   "source": [
    "lin_reg = sm.OLS.from_formula('avg_complaints_17_19 ~ avg_bachelors_frac + avg_single_frac + avg_white_frac', data=reg_df_scaled).fit(cov_type='HC1')\n",
    "print(lin_reg.summary())"
   ]
  },
  {
   "cell_type": "markdown",
   "metadata": {},
   "source": [
    "## Using Native, then asian fractions."
   ]
  },
  {
   "cell_type": "code",
   "execution_count": 34,
   "metadata": {},
   "outputs": [
    {
     "name": "stdout",
     "output_type": "stream",
     "text": [
      "                             OLS Regression Results                             \n",
      "================================================================================\n",
      "Dep. Variable:     avg_complaints_17_19   R-squared:                       0.657\n",
      "Model:                              OLS   Adj. R-squared:                  0.642\n",
      "Method:                   Least Squares   F-statistic:                     39.60\n",
      "Date:                  Tue, 07 Dec 2021   Prob (F-statistic):           4.46e-15\n",
      "Time:                          19:06:46   Log-Likelihood:                -65.431\n",
      "No. Observations:                    74   AIC:                             138.9\n",
      "Df Residuals:                        70   BIC:                             148.1\n",
      "Df Model:                             3                                         \n",
      "Covariance Type:                    HC1                                         \n",
      "======================================================================================\n",
      "                         coef    std err          z      P>|z|      [0.025      0.975]\n",
      "--------------------------------------------------------------------------------------\n",
      "Intercept          -3.192e-16      0.070  -4.56e-15      1.000      -0.137       0.137\n",
      "avg_bachelors_frac    -1.0764      0.102    -10.506      0.000      -1.277      -0.876\n",
      "avg_single_frac        0.6473      0.087      7.403      0.000       0.476       0.819\n",
      "avg_native_frac        0.0387      0.101      0.384      0.701      -0.159       0.237\n",
      "==============================================================================\n",
      "Omnibus:                        1.291   Durbin-Watson:                   1.460\n",
      "Prob(Omnibus):                  0.524   Jarque-Bera (JB):                1.322\n",
      "Skew:                           0.242   Prob(JB):                        0.516\n",
      "Kurtosis:                       2.558   Cond. No.                         2.58\n",
      "==============================================================================\n",
      "\n",
      "Warnings:\n",
      "[1] Standard Errors are heteroscedasticity robust (HC1)\n"
     ]
    }
   ],
   "source": [
    "## Native is not significant\n",
    "\n",
    "lin_reg = sm.OLS.from_formula('avg_complaints_17_19 ~ avg_bachelors_frac + avg_single_frac + avg_native_frac', data=reg_df_scaled).fit(cov_type='HC1')\n",
    "print(lin_reg.summary())"
   ]
  },
  {
   "cell_type": "code",
   "execution_count": 35,
   "metadata": {},
   "outputs": [
    {
     "name": "stdout",
     "output_type": "stream",
     "text": [
      "                             OLS Regression Results                             \n",
      "================================================================================\n",
      "Dep. Variable:     avg_complaints_17_19   R-squared:                       0.734\n",
      "Model:                              OLS   Adj. R-squared:                  0.723\n",
      "Method:                   Least Squares   F-statistic:                     57.15\n",
      "Date:                  Tue, 07 Dec 2021   Prob (F-statistic):           8.65e-19\n",
      "Time:                          19:06:53   Log-Likelihood:                -56.002\n",
      "No. Observations:                    74   AIC:                             120.0\n",
      "Df Residuals:                        70   BIC:                             129.2\n",
      "Df Model:                             3                                         \n",
      "Covariance Type:                    HC1                                         \n",
      "======================================================================================\n",
      "                         coef    std err          z      P>|z|      [0.025      0.975]\n",
      "--------------------------------------------------------------------------------------\n",
      "Intercept          -3.192e-16      0.062  -5.18e-15      1.000      -0.121       0.121\n",
      "avg_bachelors_frac    -0.9469      0.093    -10.230      0.000      -1.128      -0.765\n",
      "avg_single_frac        0.5306      0.081      6.537      0.000       0.372       0.690\n",
      "avg_asian_frac        -0.3008      0.055     -5.517      0.000      -0.408      -0.194\n",
      "==============================================================================\n",
      "Omnibus:                        0.276   Durbin-Watson:                   1.587\n",
      "Prob(Omnibus):                  0.871   Jarque-Bera (JB):                0.427\n",
      "Skew:                           0.121   Prob(JB):                        0.808\n",
      "Kurtosis:                       2.717   Cond. No.                         2.53\n",
      "==============================================================================\n",
      "\n",
      "Warnings:\n",
      "[1] Standard Errors are heteroscedasticity robust (HC1)\n"
     ]
    }
   ],
   "source": [
    "lin_reg = sm.OLS.from_formula('avg_complaints_17_19 ~ avg_bachelors_frac + avg_single_frac + avg_asian_frac', data=reg_df_scaled).fit(cov_type='HC1')\n",
    "print(lin_reg.summary())"
   ]
  },
  {
   "cell_type": "markdown",
   "metadata": {},
   "source": [
    "# Tried adding median income, but it's statistically insignificant."
   ]
  },
  {
   "cell_type": "code",
   "execution_count": 28,
   "metadata": {},
   "outputs": [
    {
     "name": "stdout",
     "output_type": "stream",
     "text": [
      "                             OLS Regression Results                             \n",
      "================================================================================\n",
      "Dep. Variable:     avg_complaints_17_19   R-squared:                       0.728\n",
      "Model:                              OLS   Adj. R-squared:                  0.712\n",
      "Method:                   Least Squares   F-statistic:                     37.83\n",
      "Date:                  Tue, 07 Dec 2021   Prob (F-statistic):           9.95e-17\n",
      "Time:                          18:49:02   Log-Likelihood:                -56.879\n",
      "No. Observations:                    74   AIC:                             123.8\n",
      "Df Residuals:                        69   BIC:                             135.3\n",
      "Df Model:                             4                                         \n",
      "Covariance Type:                    HC1                                         \n",
      "======================================================================================\n",
      "                         coef    std err          z      P>|z|      [0.025      0.975]\n",
      "--------------------------------------------------------------------------------------\n",
      "Intercept          -3.192e-16      0.063  -5.08e-15      1.000      -0.123       0.123\n",
      "avg_black_frac         0.2989      0.088      3.390      0.001       0.126       0.472\n",
      "avg_median_income     -0.1734      0.109     -1.594      0.111      -0.387       0.040\n",
      "avg_single_frac        0.5175      0.084      6.154      0.000       0.353       0.682\n",
      "avg_bachelors_frac    -0.7091      0.165     -4.305      0.000      -1.032      -0.386\n",
      "==============================================================================\n",
      "Omnibus:                        2.659   Durbin-Watson:                   1.192\n",
      "Prob(Omnibus):                  0.265   Jarque-Bera (JB):                2.071\n",
      "Skew:                           0.400   Prob(JB):                        0.355\n",
      "Kurtosis:                       3.179   Cond. No.                         5.05\n",
      "==============================================================================\n",
      "\n",
      "Warnings:\n",
      "[1] Standard Errors are heteroscedasticity robust (HC1)\n"
     ]
    }
   ],
   "source": [
    "lin_reg = sm.OLS.from_formula('avg_complaints_17_19 ~ avg_black_frac + avg_median_income + avg_single_frac + avg_bachelors_frac', data=reg_df_scaled).fit(cov_type='HC1')\n",
    "print(lin_reg.summary())"
   ]
  },
  {
   "cell_type": "markdown",
   "metadata": {},
   "source": [
    "### What if we tried to use fraction of people living with their spouse instead of living alone? And fraction of people living with someone they're not married to?"
   ]
  },
  {
   "cell_type": "code",
   "execution_count": 29,
   "metadata": {
    "scrolled": true
   },
   "outputs": [
    {
     "name": "stdout",
     "output_type": "stream",
     "text": [
      "                             OLS Regression Results                             \n",
      "================================================================================\n",
      "Dep. Variable:     avg_complaints_17_19   R-squared:                       0.701\n",
      "Model:                              OLS   Adj. R-squared:                  0.688\n",
      "Method:                   Least Squares   F-statistic:                     41.01\n",
      "Date:                  Tue, 07 Dec 2021   Prob (F-statistic):           2.08e-15\n",
      "Time:                          18:50:10   Log-Likelihood:                -60.301\n",
      "No. Observations:                    74   AIC:                             128.6\n",
      "Df Residuals:                        70   BIC:                             137.8\n",
      "Df Model:                             3                                         \n",
      "Covariance Type:                    HC1                                         \n",
      "=========================================================================================\n",
      "                            coef    std err          z      P>|z|      [0.025      0.975]\n",
      "-----------------------------------------------------------------------------------------\n",
      "Intercept             -3.192e-16      0.065  -4.89e-15      1.000      -0.128       0.128\n",
      "avg_black_frac            0.1806      0.113      1.599      0.110      -0.041       0.402\n",
      "avg_liveswspouse_frac    -0.4454      0.090     -4.960      0.000      -0.621      -0.269\n",
      "avg_bachelors_frac       -0.4264      0.074     -5.729      0.000      -0.572      -0.281\n",
      "==============================================================================\n",
      "Omnibus:                        1.886   Durbin-Watson:                   1.622\n",
      "Prob(Omnibus):                  0.390   Jarque-Bera (JB):                1.213\n",
      "Skew:                           0.170   Prob(JB):                        0.545\n",
      "Kurtosis:                       3.527   Cond. No.                         2.29\n",
      "==============================================================================\n",
      "\n",
      "Warnings:\n",
      "[1] Standard Errors are heteroscedasticity robust (HC1)\n"
     ]
    }
   ],
   "source": [
    "lin_reg = sm.OLS.from_formula('avg_complaints_17_19 ~ avg_black_frac + avg_liveswspouse_frac + avg_bachelors_frac', data=reg_df_scaled).fit(cov_type='HC1')\n",
    "print(lin_reg.summary())\n",
    "\n"
   ]
  },
  {
   "cell_type": "code",
   "execution_count": 30,
   "metadata": {},
   "outputs": [
    {
     "name": "stdout",
     "output_type": "stream",
     "text": [
      "                             OLS Regression Results                             \n",
      "================================================================================\n",
      "Dep. Variable:     avg_complaints_17_19   R-squared:                       0.701\n",
      "Model:                              OLS   Adj. R-squared:                  0.688\n",
      "Method:                   Least Squares   F-statistic:                     41.01\n",
      "Date:                  Tue, 07 Dec 2021   Prob (F-statistic):           2.08e-15\n",
      "Time:                          18:50:21   Log-Likelihood:                -60.301\n",
      "No. Observations:                    74   AIC:                             128.6\n",
      "Df Residuals:                        70   BIC:                             137.8\n",
      "Df Model:                             3                                         \n",
      "Covariance Type:                    HC1                                         \n",
      "=========================================================================================\n",
      "                            coef    std err          z      P>|z|      [0.025      0.975]\n",
      "-----------------------------------------------------------------------------------------\n",
      "Intercept             -3.192e-16      0.065  -4.89e-15      1.000      -0.128       0.128\n",
      "avg_black_frac            0.1806      0.113      1.599      0.110      -0.041       0.402\n",
      "avg_liveswspouse_frac    -0.4454      0.090     -4.960      0.000      -0.621      -0.269\n",
      "avg_bachelors_frac       -0.4264      0.074     -5.729      0.000      -0.572      -0.281\n",
      "==============================================================================\n",
      "Omnibus:                        1.886   Durbin-Watson:                   1.622\n",
      "Prob(Omnibus):                  0.390   Jarque-Bera (JB):                1.213\n",
      "Skew:                           0.170   Prob(JB):                        0.545\n",
      "Kurtosis:                       3.527   Cond. No.                         2.29\n",
      "==============================================================================\n",
      "\n",
      "Warnings:\n",
      "[1] Standard Errors are heteroscedasticity robust (HC1)\n"
     ]
    }
   ],
   "source": [
    "lin_reg = sm.OLS.from_formula('avg_complaints_17_19 ~ avg_black_frac + avg_liveswspouse_frac + avg_bachelors_frac', data=reg_df_scaled).fit(cov_type='HC1')\n",
    "print(lin_reg.summary())"
   ]
  },
  {
   "cell_type": "markdown",
   "metadata": {},
   "source": [
    "# some work on IVs ... this was not included in our analysis in the end, but we tried to do some work on 2SLS.\n",
    "\n",
    "### Reference creds to https://bfdykstra.github.io/2016/11/17/Endogeneity-and-Instrumental-Variable-Regression.html "
   ]
  },
  {
   "cell_type": "code",
   "execution_count": 17,
   "metadata": {},
   "outputs": [
    {
     "name": "stdout",
     "output_type": "stream",
     "text": [
      "                            OLS Regression Results                            \n",
      "==============================================================================\n",
      "Dep. Variable:         avg_black_frac   R-squared:                       0.708\n",
      "Model:                            OLS   Adj. R-squared:                  0.695\n",
      "Method:                 Least Squares   F-statistic:                     56.52\n",
      "Date:                Tue, 07 Dec 2021   Prob (F-statistic):           1.13e-18\n",
      "Time:                        18:31:21   Log-Likelihood:                -59.478\n",
      "No. Observations:                  74   AIC:                             127.0\n",
      "Df Residuals:                      70   BIC:                             136.2\n",
      "Df Model:                           3                                         \n",
      "Covariance Type:            nonrobust                                         \n",
      "======================================================================================\n",
      "                         coef    std err          t      P>|t|      [0.025      0.975]\n",
      "--------------------------------------------------------------------------------------\n",
      "const               1.145e-16      0.065   1.77e-15      1.000      -0.129       0.129\n",
      "avg_single_frac        0.0891      0.091      0.976      0.332      -0.093       0.271\n",
      "avg_bachelors_frac    -0.2977      0.098     -3.037      0.003      -0.493      -0.102\n",
      "avg_blacks_1990        0.7070      0.072      9.794      0.000       0.563       0.851\n",
      "==============================================================================\n",
      "Omnibus:                       39.722   Durbin-Watson:                   2.687\n",
      "Prob(Omnibus):                  0.000   Jarque-Bera (JB):              110.450\n",
      "Skew:                           1.740   Prob(JB):                     1.04e-24\n",
      "Kurtosis:                       7.870   Cond. No.                         2.66\n",
      "==============================================================================\n",
      "\n",
      "Warnings:\n",
      "[1] Standard Errors assume that the covariance matrix of the errors is correctly specified.\n"
     ]
    },
    {
     "name": "stderr",
     "output_type": "stream",
     "text": [
      "/opt/anaconda3/lib/python3.8/site-packages/statsmodels/tsa/tsatools.py:130: FutureWarning: In a future version of pandas all arguments of concat except for the argument 'objs' will be keyword-only\n",
      "  x = pd.concat(x[::order], 1)\n"
     ]
    }
   ],
   "source": [
    "# F-test for relevancy of 1990 black population as IV\n",
    "\n",
    "rel = ['avg_single_frac', 'avg_bachelors_frac', 'avg_blacks_1990']\n",
    "endog = 'avg_black_frac'\n",
    "\n",
    "only_exog = sm.add_constant(reg_df_scaled[rel])\n",
    "relevancy_results = sm.OLS(reg_df_scaled[endog], only_exog).fit()\n",
    "\n",
    "print(relevancy_results.summary())\n"
   ]
  },
  {
   "cell_type": "code",
   "execution_count": 18,
   "metadata": {},
   "outputs": [
    {
     "name": "stdout",
     "output_type": "stream",
     "text": [
      "<F test: F=array([[95.91471062]]), p=9.440630712162555e-15, df_denom=70, df_num=1>\n"
     ]
    }
   ],
   "source": [
    "hypothesis = '(avg_blacks_1990 = 0)'\n",
    "print(relevancy_results.f_test(hypothesis))\n",
    "\n",
    "# because the F-stat is large, this is a strong instrument. awesome possum!!!"
   ]
  },
  {
   "cell_type": "code",
   "execution_count": 19,
   "metadata": {},
   "outputs": [
    {
     "name": "stdout",
     "output_type": "stream",
     "text": [
      "                            OLS Regression Results                            \n",
      "==============================================================================\n",
      "Dep. Variable:         avg_black_frac   R-squared:                       0.715\n",
      "Model:                            OLS   Adj. R-squared:                  0.698\n",
      "Method:                 Least Squares   F-statistic:                     43.26\n",
      "Date:                Tue, 07 Dec 2021   Prob (F-statistic):           4.02e-18\n",
      "Time:                        18:31:21   Log-Likelihood:                -58.564\n",
      "No. Observations:                  74   AIC:                             127.1\n",
      "Df Residuals:                      69   BIC:                             138.6\n",
      "Df Model:                           4                                         \n",
      "Covariance Type:            nonrobust                                         \n",
      "======================================================================================\n",
      "                         coef    std err          t      P>|t|      [0.025      0.975]\n",
      "--------------------------------------------------------------------------------------\n",
      "const               1.145e-16      0.064   1.78e-15      1.000      -0.128       0.128\n",
      "avg_single_frac        0.1147      0.093      1.235      0.221      -0.071       0.300\n",
      "avg_bachelors_frac    -0.4527      0.153     -2.958      0.004      -0.758      -0.147\n",
      "avg_median_income      0.1703      0.130      1.314      0.193      -0.088       0.429\n",
      "avg_blacks_1990        0.7266      0.073      9.906      0.000       0.580       0.873\n",
      "==============================================================================\n",
      "Omnibus:                       36.292   Durbin-Watson:                   2.646\n",
      "Prob(Omnibus):                  0.000   Jarque-Bera (JB):               92.969\n",
      "Skew:                           1.608   Prob(JB):                     6.49e-21\n",
      "Kurtosis:                       7.451   Cond. No.                         4.83\n",
      "==============================================================================\n",
      "\n",
      "Warnings:\n",
      "[1] Standard Errors assume that the covariance matrix of the errors is correctly specified.\n"
     ]
    }
   ],
   "source": [
    "# what if we added median income?\n",
    "\n",
    "rel = ['avg_single_frac', 'avg_bachelors_frac', 'avg_median_income','avg_blacks_1990']\n",
    "endog = 'avg_black_frac'\n",
    "\n",
    "only_exog = sm.add_constant(reg_df_scaled[rel])\n",
    "relevancy_results = sm.OLS(reg_df_scaled[endog], only_exog).fit()\n",
    "\n",
    "print(relevancy_results.summary())\n"
   ]
  },
  {
   "cell_type": "code",
   "execution_count": 20,
   "metadata": {},
   "outputs": [
    {
     "name": "stdout",
     "output_type": "stream",
     "text": [
      "<F test: F=array([[98.12322097]]), p=6.884872188610155e-15, df_denom=69, df_num=1>\n"
     ]
    }
   ],
   "source": [
    "# still a high F-score!!! wow..\n",
    "\n",
    "hypothesis = '(avg_blacks_1990 = 0)'\n",
    "print(relevancy_results.f_test(hypothesis))"
   ]
  },
  {
   "cell_type": "code",
   "execution_count": 21,
   "metadata": {},
   "outputs": [
    {
     "name": "stdout",
     "output_type": "stream",
     "text": [
      "                           IV2SLS Regression Results                            \n",
      "================================================================================\n",
      "Dep. Variable:     avg_complaints_17_19   R-squared:                       0.719\n",
      "Model:                           IV2SLS   Adj. R-squared:                  0.707\n",
      "Method:                       Two Stage   F-statistic:                     56.92\n",
      "                          Least Squares   Prob (F-statistic):           9.53e-19\n",
      "Date:                  Tue, 07 Dec 2021                                         \n",
      "Time:                          18:31:21                                         \n",
      "No. Observations:                    74                                         \n",
      "Df Residuals:                        70                                         \n",
      "Df Model:                             3                                         \n",
      "======================================================================================\n",
      "                         coef    std err          t      P>|t|      [0.025      0.975]\n",
      "--------------------------------------------------------------------------------------\n",
      "const              -5.389e-16      0.063  -8.51e-15      1.000      -0.126       0.126\n",
      "avg_bachelors_frac    -0.8988      0.112     -7.990      0.000      -1.123      -0.674\n",
      "avg_single_frac        0.5593      0.092      6.063      0.000       0.375       0.743\n",
      "avg_black_frac         0.2714      0.100      2.711      0.008       0.072       0.471\n",
      "==============================================================================\n",
      "Omnibus:                        2.500   Durbin-Watson:                   1.259\n",
      "Prob(Omnibus):                  0.286   Jarque-Bera (JB):                2.093\n",
      "Skew:                           0.411   Prob(JB):                        0.351\n",
      "Kurtosis:                       3.040   Cond. No.                         2.90\n",
      "==============================================================================\n"
     ]
    }
   ],
   "source": [
    "endog = reg_df_scaled['avg_complaints_17_19']\n",
    "exog = reg_df_scaled[['avg_bachelors_frac', 'avg_single_frac', 'avg_black_frac']]\n",
    "instr = reg_df_scaled[['avg_bachelors_frac', 'avg_single_frac', 'avg_blacks_1990']]\n",
    "# dep_var_iv = reg_df_scaled['agefbrth']\n",
    "\n",
    "exog_constant = sm.add_constant(exog)\n",
    "instr_constant = sm.add_constant(instr)\n",
    "ivregress = IV2SLS(endog, exog_constant, instrument = instr_constant).fit()\n",
    "\n",
    "print(ivregress.summary())"
   ]
  },
  {
   "cell_type": "code",
   "execution_count": 22,
   "metadata": {},
   "outputs": [
    {
     "name": "stdout",
     "output_type": "stream",
     "text": [
      "                           IV2SLS Regression Results                            \n",
      "================================================================================\n",
      "Dep. Variable:     avg_complaints_17_19   R-squared:                       0.725\n",
      "Model:                           IV2SLS   Adj. R-squared:                  0.710\n",
      "Method:                       Two Stage   F-statistic:                     43.33\n",
      "                          Least Squares   Prob (F-statistic):           3.87e-18\n",
      "Date:                  Tue, 07 Dec 2021                                         \n",
      "Time:                          18:31:21                                         \n",
      "No. Observations:                    74                                         \n",
      "Df Residuals:                        69                                         \n",
      "Df Model:                             4                                         \n",
      "======================================================================================\n",
      "                         coef    std err          t      P>|t|      [0.025      0.975]\n",
      "--------------------------------------------------------------------------------------\n",
      "const              -5.667e-16      0.063  -8.98e-15      1.000      -0.126       0.126\n",
      "avg_black_frac         0.2423      0.099      2.446      0.017       0.045       0.440\n",
      "avg_median_income     -0.1785      0.125     -1.430      0.157      -0.428       0.071\n",
      "avg_single_frac        0.5351      0.094      5.680      0.000       0.347       0.723\n",
      "avg_bachelors_frac    -0.7449      0.162     -4.605      0.000      -1.068      -0.422\n",
      "==============================================================================\n",
      "Omnibus:                        2.546   Durbin-Watson:                   1.218\n",
      "Prob(Omnibus):                  0.280   Jarque-Bera (JB):                2.167\n",
      "Skew:                           0.419   Prob(JB):                        0.338\n",
      "Kurtosis:                       3.018   Cond. No.                         5.05\n",
      "==============================================================================\n"
     ]
    }
   ],
   "source": [
    "endog = reg_df_scaled['avg_complaints_17_19']\n",
    "exog = reg_df_scaled[['avg_black_frac', 'avg_median_income', 'avg_single_frac','avg_bachelors_frac']]\n",
    "instr = reg_df_scaled[['avg_blacks_1990', 'avg_median_income', 'avg_single_frac','avg_bachelors_frac']]\n",
    "# dep_var_iv = reg_df_scaled['agefbrth']\n",
    "\n",
    "exog_constant = sm.add_constant(exog)\n",
    "instr_constant = sm.add_constant(instr)\n",
    "ivregress = IV2SLS(endog, exog_constant, instrument = instr_constant).fit()\n",
    "\n",
    "print(ivregress.summary())"
   ]
  },
  {
   "cell_type": "code",
   "execution_count": 23,
   "metadata": {},
   "outputs": [
    {
     "name": "stdout",
     "output_type": "stream",
     "text": [
      "                           IV2SLS Regression Results                            \n",
      "================================================================================\n",
      "Dep. Variable:     avg_complaints_17_19   R-squared:                       0.748\n",
      "Model:                           IV2SLS   Adj. R-squared:                  0.733\n",
      "Method:                       Two Stage   F-statistic:                     50.20\n",
      "                          Least Squares   Prob (F-statistic):           9.89e-20\n",
      "Date:                  Tue, 07 Dec 2021                                         \n",
      "Time:                          18:31:21                                         \n",
      "No. Observations:                    74                                         \n",
      "Df Residuals:                        69                                         \n",
      "Df Model:                             4                                         \n",
      "=========================================================================================\n",
      "                            coef    std err          t      P>|t|      [0.025      0.975]\n",
      "-----------------------------------------------------------------------------------------\n",
      "const                 -1.673e-16      0.060  -2.77e-15      1.000      -0.121       0.121\n",
      "avg_black_frac            0.1080      0.117      0.925      0.358      -0.125       0.341\n",
      "avg_single_frac           0.3767      0.103      3.666      0.000       0.172       0.582\n",
      "avg_liveswspouse_frac    -0.3061      0.098     -3.113      0.003      -0.502      -0.110\n",
      "avg_bachelors_frac       -0.7614      0.111     -6.834      0.000      -0.984      -0.539\n",
      "==============================================================================\n",
      "Omnibus:                        1.385   Durbin-Watson:                   1.554\n",
      "Prob(Omnibus):                  0.500   Jarque-Bera (JB):                0.928\n",
      "Skew:                           0.264   Prob(JB):                        0.629\n",
      "Kurtosis:                       3.148   Cond. No.                         3.59\n",
      "==============================================================================\n"
     ]
    }
   ],
   "source": [
    "endog = reg_df_scaled['avg_complaints_17_19']\n",
    "exog = reg_df_scaled[['avg_black_frac', 'avg_single_frac', 'avg_liveswspouse_frac','avg_bachelors_frac']]\n",
    "instr = reg_df_scaled[['avg_blacks_1990', 'avg_single_frac', 'avg_liveswspouse_frac','avg_bachelors_frac']]\n",
    "# dep_var_iv = reg_df_scaled['agefbrth']\n",
    "\n",
    "exog_constant = sm.add_constant(exog)\n",
    "instr_constant = sm.add_constant(instr)\n",
    "ivregress = IV2SLS(endog, exog_constant, instrument = instr_constant).fit()\n",
    "\n",
    "print(ivregress.summary())"
   ]
  }
 ],
 "metadata": {
  "kernelspec": {
   "display_name": "Python 3",
   "language": "python",
   "name": "python3"
  },
  "language_info": {
   "codemirror_mode": {
    "name": "ipython",
    "version": 3
   },
   "file_extension": ".py",
   "mimetype": "text/x-python",
   "name": "python",
   "nbconvert_exporter": "python",
   "pygments_lexer": "ipython3",
   "version": "3.7.4"
  }
 },
 "nbformat": 4,
 "nbformat_minor": 4
}
